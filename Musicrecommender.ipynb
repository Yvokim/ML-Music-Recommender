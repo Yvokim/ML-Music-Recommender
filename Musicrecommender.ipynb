{
 "cells": [
  {
   "cell_type": "code",
   "execution_count": 18,
   "id": "f2d2fa3e",
   "metadata": {},
   "outputs": [
    {
     "data": {
      "text/plain": [
       "0.75"
      ]
     },
     "execution_count": 18,
     "metadata": {},
     "output_type": "execute_result"
    }
   ],
   "source": [
    "import pandas as pd\n",
    "from sklearn.tree import DecisionTreeClassifier\n",
    "from sklearn.model_selection import train_test_split\n",
    "from sklearn.metrics import accuracy_score\n",
    "\n",
    "\n",
    "\n",
    "music = pd.read_csv('music.csv')\n",
    "X= music.drop(columns=['genre'])\n",
    "y=music['genre']\n",
    "X_train,X_test,y_train,y_test = train_test_split(x,y, test_size=0.2)\n",
    "\n",
    "model= DecisionTreeClassifier() # create a model\n",
    "model.fit(X_train,y_train)# train model\n",
    "predictions = model.predict(X_test)# make predictions to test the model\n",
    "\n",
    "score= accuracy_score(y_test,predictions)#how accurate is it\n",
    "score\n"
   ]
  },
  {
   "cell_type": "code",
   "execution_count": null,
   "id": "2003ea5e",
   "metadata": {},
   "outputs": [],
   "source": []
  }
 ],
 "metadata": {
  "kernelspec": {
   "display_name": "Python 3 (ipykernel)",
   "language": "python",
   "name": "python3"
  },
  "language_info": {
   "codemirror_mode": {
    "name": "ipython",
    "version": 3
   },
   "file_extension": ".py",
   "mimetype": "text/x-python",
   "name": "python",
   "nbconvert_exporter": "python",
   "pygments_lexer": "ipython3",
   "version": "3.12.3"
  }
 },
 "nbformat": 4,
 "nbformat_minor": 5
}
