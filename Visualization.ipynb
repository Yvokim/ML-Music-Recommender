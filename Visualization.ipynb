{
 "cells": [
  {
   "cell_type": "code",
   "execution_count": 12,
   "id": "5841175d",
   "metadata": {},
   "outputs": [],
   "source": [
    "import pandas as pd\n",
    "from sklearn.tree import DecisionTreeClassifier\n",
    "from sklearn import tree\n",
    "\n",
    "music_data=pd.read_csv('music.csv')\n",
    "X = music_data.drop(columns=['genre'])\n",
    "y = music_data['genre']\n",
    "\n",
    "model=DecisionTreeClassifier()\n",
    "model.fit(X,y)\n",
    "\n",
    "tree.export_graphviz(model,out_file='music-recommender.dot',\n",
    "                    feature_names=['age','gender'],\n",
    "                    class_names=sorted(y.unique()),\n",
    "                    label='all',\n",
    "                    rounded=True,\n",
    "                    filled=True)"
   ]
  },
  {
   "cell_type": "code",
   "execution_count": 14,
   "id": "0d8db0a9",
   "metadata": {},
   "outputs": [
    {
     "name": "stdout",
     "output_type": "stream",
     "text": [
      "C:\\Users\\kra\\Desktop\n"
     ]
    }
   ],
   "source": [
    "import os\n",
    "print(os.getcwd())\n"
   ]
  },
  {
   "cell_type": "code",
   "execution_count": 15,
   "id": "ca9c7432",
   "metadata": {},
   "outputs": [
    {
     "name": "stdout",
     "output_type": "stream",
     "text": [
      "['.ipynb_checkpoints', '20231108_150300.jpg', '20231109_174858.jpg', 'APIS', 'Approval- LAN Upgrade for thirty six (36) KRA tax services centres and border stations.pdf', 'BACKEND TO LEARN MODULES.txt', 'Cisco Packet Tracer.lnk', 'CPU SERIAL NUMBERS.docx', 'DC SWITCHES.txt', 'desktop.ini', 'DOCS', 'ECOMMERCE', 'Ecommerce site pics', 'HelloWorld.ipynb', 'IDRAC CPU.docx', 'Login', 'Minimum Technical Specifications - HDD.docx', 'music-recommender.dot', 'music-recommender.joblib', 'music.csv', 'music_data.csv', 'Nmap - Zenmap GUI.lnk', 'Pass docs', 'PAYPAL.txt', 'PyCharm Community Edition 2023.3.2.lnk', 'pythonProject', 'pythonProject1', 'pythonProject2', 'pythonProject3', 'RRR', 'TECHNICAL SPECS  HARDDRIVE.docx', 'Tidbits', 'Transcripts,,one document.txt', 'Untitled.ipynb', 'vgsales.csv', 'Visualization.ipynb', 'WAN LINKS BIDDER EVALUATION', 'Webex.lnk', 'Yvonne - Chrome.lnk', 'YVONNE KIMANI JAN LOGS.xlsx', 'Yvonne Kimani- September 2023 Activity Log.xlsx', 'YVONNE WK.docx']\n"
     ]
    }
   ],
   "source": [
    "import os\n",
    "\n",
    "# Get the current working directory\n",
    "current_dir = os.getcwd()\n",
    "\n",
    "# List all files and directories in the current directory\n",
    "files = os.listdir(current_dir)\n",
    "\n",
    "# Print the list of files to inspect\n",
    "print(files)\n"
   ]
  },
  {
   "cell_type": "code",
   "execution_count": 16,
   "id": "56093241",
   "metadata": {},
   "outputs": [
    {
     "name": "stdout",
     "output_type": "stream",
     "text": [
      "The exact position of 'music-recommender.dot' is:\n",
      "C:\\Users\\kra\\Desktop\\music-recommender.dot\n"
     ]
    }
   ],
   "source": [
    "import os\n",
    "\n",
    "# Get the current working directory\n",
    "current_dir = os.getcwd()\n",
    "\n",
    "# Specify the filename\n",
    "filename = 'music-recommender.dot'\n",
    "\n",
    "# Construct the full file path\n",
    "file_path = os.path.join(current_dir, filename)\n",
    "\n",
    "# Print the full file path\n",
    "print(f\"The exact position of '{filename}' is:\")\n",
    "print(file_path)\n"
   ]
  },
  {
   "cell_type": "code",
   "execution_count": 17,
   "id": "c137aa8b",
   "metadata": {},
   "outputs": [
    {
     "name": "stdout",
     "output_type": "stream",
     "text": [
      "music-recommender.dot is found.\n"
     ]
    }
   ],
   "source": [
    "import os\n",
    "\n",
    "# Specify the file name\n",
    "filename = 'music-recommender.dot'\n",
    "\n",
    "# Check if the file exists\n",
    "if os.path.isfile(filename):\n",
    "    print(f\"{filename} is found.\")\n",
    "else:\n",
    "    print(f\"{filename} is not found.\")\n"
   ]
  }
 ],
 "metadata": {
  "kernelspec": {
   "display_name": "Python 3 (ipykernel)",
   "language": "python",
   "name": "python3"
  },
  "language_info": {
   "codemirror_mode": {
    "name": "ipython",
    "version": 3
   },
   "file_extension": ".py",
   "mimetype": "text/x-python",
   "name": "python",
   "nbconvert_exporter": "python",
   "pygments_lexer": "ipython3",
   "version": "3.12.3"
  }
 },
 "nbformat": 4,
 "nbformat_minor": 5
}
